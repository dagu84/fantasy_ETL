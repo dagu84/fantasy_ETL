{
 "cells": [
  {
   "cell_type": "code",
   "execution_count": 56,
   "metadata": {},
   "outputs": [],
   "source": [
    "import os\n",
    "import pandas as pd\n",
    "import requests"
   ]
  },
  {
   "cell_type": "code",
   "execution_count": 57,
   "metadata": {},
   "outputs": [],
   "source": [
    "league = os.getenv('LEAGUE')\n",
    "def roster(league):\n",
    "    request = requests.get(f'https://api.sleeper.app/v1/league/{league}/rosters')\n",
    "    return request.json()"
   ]
  },
  {
   "cell_type": "code",
   "execution_count": 58,
   "metadata": {},
   "outputs": [],
   "source": [
    "def users(league):\n",
    "    request = requests.get(f'https://api.sleeper.app/v1/league/{league}/users')\n",
    "    return request.json()"
   ]
  },
  {
   "cell_type": "code",
   "execution_count": 59,
   "metadata": {},
   "outputs": [],
   "source": [
    "json = roster(league)\n",
    "roster= pd.DataFrame(json)\n",
    "json = users(league)\n",
    "user = pd.DataFrame(json)"
   ]
  },
  {
   "cell_type": "code",
   "execution_count": 66,
   "metadata": {},
   "outputs": [],
   "source": [
    "def users_transform(data1, data2):\n",
    "\n",
    "    #Using data from the users api\n",
    "    df = pd.DataFrame(data1)\n",
    "    df = df[['user_id', 'metadata', 'display_name']]\n",
    "    df['team_name'] = [met['team_name'] for met in df['metadata']]\n",
    "\n",
    "    #Using the data from the roster api\n",
    "    df2 = pd.DataFrame(data2)\n",
    "    settings_df = pd.json_normalize(df2['settings'])\n",
    "    df2 = pd.concat([df2.drop(columns=['settings']), settings_df], axis=1)\n",
    "\n",
    "    #Concating the two dataframes\n",
    "    df = pd.concat([df, df2[['total_moves', 'wins', 'ties', 'losses', 'waiver_position', 'fpts']]])\n",
    "\n",
    "    return df"
   ]
  },
  {
   "cell_type": "code",
   "execution_count": 67,
   "metadata": {},
   "outputs": [],
   "source": [
    "df = users_transform(user, roster)"
   ]
  },
  {
   "cell_type": "code",
   "execution_count": null,
   "metadata": {},
   "outputs": [],
   "source": []
  }
 ],
 "metadata": {
  "kernelspec": {
   "display_name": "fantasy_football",
   "language": "python",
   "name": "python3"
  },
  "language_info": {
   "codemirror_mode": {
    "name": "ipython",
    "version": 3
   },
   "file_extension": ".py",
   "mimetype": "text/x-python",
   "name": "python",
   "nbconvert_exporter": "python",
   "pygments_lexer": "ipython3",
   "version": "3.10.6"
  }
 },
 "nbformat": 4,
 "nbformat_minor": 2
}
