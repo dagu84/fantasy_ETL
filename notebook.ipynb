{
 "cells": [
  {
   "cell_type": "code",
   "execution_count": 50,
   "metadata": {},
   "outputs": [],
   "source": [
    "import os\n",
    "import requests\n",
    "import pandas as pd\n",
    "from package.api import roster, status, player"
   ]
  },
  {
   "cell_type": "code",
   "execution_count": 51,
   "metadata": {},
   "outputs": [],
   "source": [
    "league = os.environ.get('LEAGUE')\n",
    "username = os.environ.get('USERNAME')"
   ]
  },
  {
   "cell_type": "code",
   "execution_count": 52,
   "metadata": {},
   "outputs": [],
   "source": [
    "data = roster(league)"
   ]
  },
  {
   "cell_type": "code",
   "execution_count": 53,
   "metadata": {},
   "outputs": [
    {
     "data": {
      "text/plain": [
       "['10229',\n",
       " '11581',\n",
       " '11604',\n",
       " '11619',\n",
       " '4666',\n",
       " '4983',\n",
       " '5859',\n",
       " '5937',\n",
       " '6770',\n",
       " '7543',\n",
       " '7611',\n",
       " '8130',\n",
       " '8131',\n",
       " '8136',\n",
       " '8150',\n",
       " '8151',\n",
       " '9486',\n",
       " '9493',\n",
       " '9508',\n",
       " '9758']"
      ]
     },
     "execution_count": 53,
     "metadata": {},
     "output_type": "execute_result"
    }
   ],
   "source": [
    "players = data[0]['players']\n",
    "players"
   ]
  },
  {
   "cell_type": "code",
   "execution_count": 54,
   "metadata": {},
   "outputs": [],
   "source": [
    "data = player()"
   ]
  },
  {
   "cell_type": "code",
   "execution_count": 55,
   "metadata": {},
   "outputs": [
    {
     "name": "stdout",
     "output_type": "stream",
     "text": [
      "{'dl_trading_id': None, 'number': 4, 'stats_id': None, 'search_full_name': 'rasheerice', 'birth_state': None, 'position': 'WR', 'fantasy_positions': ['WR'], 'injury_notes': None, 'team': 'KC', 'oddsjam_id': 'D5BE2AF21C8F', 'yahoo_id': None, 'search_first_name': 'rashee', 'sportradar_id': 'cbd73c09-da07-48b0-a0d6-f248dfa631b6', 'injury_body_part': None, 'pandascore_id': None, 'espn_id': None, 'height': '73', 'practice_participation': None, 'player_id': '10229', 'depth_chart_position': 'SWR', 'full_name': 'Rashee Rice', 'weight': '204', 'years_exp': 1, 'sport': 'nfl', 'depth_chart_order': 3, 'birth_city': None, 'fantasy_data_id': None, 'status': 'Active', 'swish_id': 1173538, 'search_rank': 59, 'age': 24, 'search_last_name': 'rice', 'metadata': {'rookie_year': '2023'}, 'first_name': 'Rashee', 'rotowire_id': 16963, 'injury_start_date': None, 'college': 'SMU', 'birth_country': None, 'hashtag': '#rasheerice-NFL-KC-4', 'practice_description': None, 'high_school': 'Richland (TX)', 'birth_date': '2000-04-22', 'active': True, 'last_name': 'Rice', 'injury_status': None, 'rotoworld_id': None, 'news_updated': 1715119807334, 'gsis_id': None}\n",
      "{'dl_trading_id': None, 'number': 32, 'stats_id': None, 'search_full_name': 'marshawnlloyd', 'birth_state': None, 'position': 'RB', 'fantasy_positions': ['RB'], 'injury_notes': None, 'team': 'GB', 'oddsjam_id': 'BB0614A43AA9', 'yahoo_id': None, 'search_first_name': 'marshawn', 'sportradar_id': '7b8967bc-a3a5-4aa4-bd1f-2846663ca831', 'injury_body_part': None, 'pandascore_id': None, 'espn_id': None, 'height': '69', 'practice_participation': None, 'player_id': '11581', 'depth_chart_position': 'RB', 'full_name': 'MarShawn Lloyd', 'weight': '220', 'years_exp': 0, 'sport': 'nfl', 'depth_chart_order': 2, 'birth_city': None, 'fantasy_data_id': None, 'status': 'Active', 'swish_id': 1213414, 'search_rank': 161, 'age': 23, 'search_last_name': 'lloyd', 'metadata': {'rookie_year': '2024'}, 'first_name': 'MarShawn', 'rotowire_id': 17795, 'injury_start_date': None, 'college': 'USC', 'birth_country': None, 'hashtag': '#marshawnlloyd-NFL-GB-32', 'practice_description': None, 'high_school': 'DeMatha Catholic (MD)', 'birth_date': '2001-01-05', 'active': True, 'last_name': 'Lloyd', 'injury_status': None, 'rotoworld_id': None, 'news_updated': 1714187736758, 'gsis_id': None}\n",
      "{'dl_trading_id': None, 'number': 89, 'stats_id': None, 'search_full_name': 'brockbowers', 'birth_state': None, 'position': 'TE', 'fantasy_positions': ['TE'], 'injury_notes': None, 'team': 'LV', 'oddsjam_id': '890CB831F75E', 'yahoo_id': None, 'search_first_name': 'brock', 'sportradar_id': 'ad9fc7e3-0a6d-4e41-84c2-cf43b71aee13', 'injury_body_part': 'Hamstring', 'pandascore_id': None, 'espn_id': None, 'height': '76', 'practice_participation': None, 'player_id': '11604', 'depth_chart_position': 'TE', 'full_name': 'Brock Bowers', 'weight': '230', 'years_exp': 0, 'sport': 'nfl', 'depth_chart_order': 1, 'birth_city': None, 'fantasy_data_id': None, 'status': 'Active', 'swish_id': 1285917, 'search_rank': 63, 'age': 21, 'search_last_name': 'bowers', 'metadata': {'rookie_year': '2024'}, 'first_name': 'Brock', 'rotowire_id': 17693, 'injury_start_date': None, 'college': 'Georgia', 'birth_country': None, 'hashtag': '#brockbowers-NFL-LV-89', 'practice_description': None, 'high_school': 'Napa (CA)', 'birth_date': '2002-12-13', 'active': True, 'last_name': 'Bowers', 'injury_status': 'Questionable', 'rotoworld_id': None, 'news_updated': 1714096220744, 'gsis_id': None}\n",
      "{'dl_trading_id': None, 'number': 1, 'stats_id': None, 'search_full_name': 'jalynnpolk', 'birth_state': None, 'position': 'WR', 'fantasy_positions': ['WR'], 'injury_notes': None, 'team': 'NE', 'oddsjam_id': 'CA3ADE5E986E', 'yahoo_id': None, 'search_first_name': 'jalynn', 'sportradar_id': '446ecdc5-470d-4cb6-9a77-b54c108e3d3a', 'injury_body_part': None, 'pandascore_id': None, 'espn_id': None, 'height': '73', 'practice_participation': None, 'player_id': '11619', 'depth_chart_position': 'LWR', 'full_name': \"Ja'Lynn Polk\", 'weight': '203', 'years_exp': 0, 'sport': 'nfl', 'depth_chart_order': 2, 'birth_city': None, 'fantasy_data_id': None, 'status': 'Active', 'swish_id': 1213881, 'search_rank': 168, 'age': 22, 'search_last_name': 'polk', 'metadata': {'rookie_year': '2024'}, 'first_name': \"Ja'Lynn\", 'rotowire_id': 17684, 'injury_start_date': None, 'college': 'Washington', 'birth_country': None, 'hashtag': '#jalynnpolk-NFL-NE-1', 'practice_description': None, 'high_school': 'Lufkin (TX)', 'birth_date': '2002-04-11', 'active': True, 'last_name': 'Polk', 'injury_status': None, 'rotoworld_id': None, 'news_updated': 1714175427736, 'gsis_id': None}\n",
      "{'dl_trading_id': None, 'number': 6, 'stats_id': None, 'search_full_name': 'younghoekoo', 'birth_state': None, 'position': 'K', 'fantasy_positions': ['K'], 'injury_notes': None, 'team': 'ATL', 'oddsjam_id': '990C6C670773', 'yahoo_id': 30426, 'search_first_name': 'younghoe', 'sportradar_id': 'a8c79523-3d0e-48dd-b4c6-e3d8afd24a13', 'injury_body_part': None, 'pandascore_id': None, 'espn_id': 3049899, 'height': '69', 'practice_participation': None, 'player_id': '4666', 'depth_chart_position': 'K', 'full_name': 'Younghoe Koo', 'weight': '185', 'years_exp': 7, 'sport': 'nfl', 'depth_chart_order': 1, 'birth_city': None, 'fantasy_data_id': 19565, 'status': 'Active', 'swish_id': 750072, 'search_rank': 160, 'age': 29, 'search_last_name': 'koo', 'metadata': {'rookie_year': '2017'}, 'first_name': 'Younghoe', 'rotowire_id': 12292, 'injury_start_date': None, 'college': 'Georgia Southern', 'birth_country': None, 'hashtag': '#younghoekoo-NFL-ATL-6', 'practice_description': None, 'high_school': 'Ridgewood (NJ)', 'birth_date': '1994-08-03', 'active': True, 'last_name': 'Koo', 'injury_status': None, 'rotoworld_id': 12566, 'news_updated': 1705510860148, 'gsis_id': '00-0033702'}\n",
      "{'dl_trading_id': None, 'number': 2, 'stats_id': 877790, 'search_full_name': 'djmoore', 'birth_state': None, 'position': 'WR', 'fantasy_positions': ['WR'], 'injury_notes': None, 'team': 'CHI', 'oddsjam_id': '9D6ED1CC6CA2', 'yahoo_id': 30994, 'search_first_name': 'dj', 'sportradar_id': 'd8202e6d-d03b-4cd1-a793-ff8fd39d9755', 'injury_body_part': None, 'pandascore_id': None, 'espn_id': 3915416, 'height': '71', 'practice_participation': None, 'player_id': '4983', 'depth_chart_position': 'SWR', 'full_name': 'DJ Moore', 'weight': '210', 'years_exp': 6, 'sport': 'nfl', 'depth_chart_order': 1, 'birth_city': None, 'fantasy_data_id': 19844, 'status': 'Active', 'swish_id': 877790, 'search_rank': 29, 'age': 27, 'search_last_name': 'moore', 'metadata': {'rookie_year': '2018'}, 'first_name': 'DJ', 'rotowire_id': 12477, 'injury_start_date': None, 'college': 'Maryland', 'birth_country': None, 'hashtag': '#djmoore-NFL-CHI-2', 'practice_description': None, 'high_school': 'Imhotep Institute Charter (PA)', 'birth_date': '1997-04-14', 'active': True, 'last_name': 'Moore', 'injury_status': None, 'rotoworld_id': None, 'news_updated': 1714745135749, 'gsis_id': '00-0034827'}\n",
      "{'dl_trading_id': None, 'number': 11, 'stats_id': 944826, 'search_full_name': 'ajbrown', 'birth_state': None, 'position': 'WR', 'fantasy_positions': ['WR'], 'injury_notes': None, 'team': 'PHI', 'oddsjam_id': '828EC99117A1', 'yahoo_id': 31883, 'search_first_name': 'aj', 'sportradar_id': 'a9e580f2-1fbe-46fb-887c-c84089b507e4', 'injury_body_part': 'Knee', 'pandascore_id': None, 'espn_id': 4047646, 'height': '73', 'practice_participation': None, 'player_id': '5859', 'depth_chart_position': 'RWR', 'full_name': 'A.J. Brown', 'weight': '226', 'years_exp': 5, 'sport': 'nfl', 'depth_chart_order': 1, 'birth_city': None, 'fantasy_data_id': 21042, 'status': 'Active', 'swish_id': 944826, 'search_rank': 9, 'age': 26, 'search_last_name': 'brown', 'metadata': {'rookie_year': '2019'}, 'first_name': 'A.J.', 'rotowire_id': 13432, 'injury_start_date': None, 'college': 'Ole Miss', 'birth_country': None, 'hashtag': '#ajbrown-NFL-PHI-11', 'practice_description': None, 'high_school': 'Starkville (MS)', 'birth_date': '1997-06-30', 'active': True, 'last_name': 'Brown', 'injury_status': 'Questionable', 'rotoworld_id': 13946, 'news_updated': 1714091719892, 'gsis_id': ' 00-0035676'}\n",
      "{'dl_trading_id': None, 'number': 5, 'stats_id': 891115, 'search_full_name': 'diontaejohnson', 'birth_state': None, 'position': 'WR', 'fantasy_positions': ['WR'], 'injury_notes': None, 'team': 'CAR', 'oddsjam_id': 'AB97C12BC3F3', 'yahoo_id': 31898, 'search_first_name': 'diontae', 'sportradar_id': '244c00c7-fe9a-4f4f-adff-1d5b9c8877e7', 'injury_body_part': None, 'pandascore_id': None, 'espn_id': 3932905, 'height': '70', 'practice_participation': None, 'player_id': '5937', 'depth_chart_position': 'LWR', 'full_name': 'Diontae Johnson', 'weight': '183', 'years_exp': 5, 'sport': 'nfl', 'depth_chart_order': 1, 'birth_city': None, 'fantasy_data_id': 21077, 'status': 'Active', 'swish_id': 891115, 'search_rank': 90, 'age': 27, 'search_last_name': 'johnson', 'metadata': {'rookie_year': '2019'}, 'first_name': 'Diontae', 'rotowire_id': 13472, 'injury_start_date': None, 'college': 'Toledo', 'birth_country': None, 'hashtag': '#diontaejohnson-NFL-CAR-5', 'practice_description': None, 'high_school': 'Earl J. Lennard (FL)', 'birth_date': '1996-07-05', 'active': True, 'last_name': 'Johnson', 'injury_status': None, 'rotoworld_id': 14126, 'news_updated': 1710286850499, 'gsis_id': ' 00-0035216'}\n",
      "{'dl_trading_id': None, 'number': 9, 'stats_id': None, 'search_full_name': 'joeburrow', 'birth_state': None, 'position': 'QB', 'fantasy_positions': ['QB'], 'injury_notes': 'Surgery', 'team': 'CIN', 'oddsjam_id': '26DF8843FD11', 'yahoo_id': 32671, 'search_first_name': 'joe', 'sportradar_id': '3023ac10-4e7f-425f-9fc5-2b8e6332c92e', 'injury_body_part': 'Wrist', 'pandascore_id': None, 'espn_id': 3915511, 'height': '76', 'practice_participation': None, 'player_id': '6770', 'depth_chart_position': 'QB', 'full_name': 'Joe Burrow', 'weight': '215', 'years_exp': 4, 'sport': 'nfl', 'depth_chart_order': 1, 'birth_city': None, 'fantasy_data_id': 21693, 'status': 'Active', 'swish_id': 878785, 'search_rank': 16, 'age': 27, 'search_last_name': 'burrow', 'metadata': {'rookie_year': '2020'}, 'first_name': 'Joe', 'rotowire_id': 14442, 'injury_start_date': None, 'college': 'LSU', 'birth_country': None, 'hashtag': '#joeburrow-NFL-CIN-9', 'practice_description': None, 'high_school': 'Athens (OH)', 'birth_date': '1996-12-10', 'active': True, 'last_name': 'Burrow', 'injury_status': 'Questionable', 'rotoworld_id': 14863, 'news_updated': 1715130906340, 'gsis_id': None}\n",
      "{'dl_trading_id': None, 'number': 1, 'stats_id': None, 'search_full_name': 'travisetienne', 'birth_state': None, 'position': 'RB', 'fantasy_positions': ['RB'], 'injury_notes': None, 'team': 'JAX', 'oddsjam_id': 'B26588814F61', 'yahoo_id': None, 'search_first_name': 'travis', 'sportradar_id': '970693f0-0af4-4627-ac0c-bf519f7433ee', 'injury_body_part': None, 'pandascore_id': None, 'espn_id': None, 'height': '70', 'practice_participation': None, 'player_id': '7543', 'depth_chart_position': 'RB', 'full_name': 'Travis Etienne', 'weight': '215', 'years_exp': 3, 'sport': 'nfl', 'depth_chart_order': 1, 'birth_city': None, 'fantasy_data_id': None, 'status': 'Active', 'swish_id': 978577, 'search_rank': 25, 'age': 25, 'search_last_name': 'etienne', 'metadata': {'rookie_year': '2021'}, 'first_name': 'Travis', 'rotowire_id': 15385, 'injury_start_date': None, 'college': 'Clemson', 'birth_country': None, 'hashtag': '#travisetienne-NFL-JAX-1', 'practice_description': None, 'high_school': 'Jennings (LA)', 'birth_date': '1999-01-26', 'active': True, 'last_name': 'Etienne', 'injury_status': None, 'rotoworld_id': None, 'news_updated': 1714412150432, 'gsis_id': None}\n",
      "{'dl_trading_id': None, 'number': 38, 'stats_id': None, 'search_full_name': 'rhamondrestevenson', 'birth_state': None, 'position': 'RB', 'fantasy_positions': ['RB'], 'injury_notes': None, 'team': 'NE', 'oddsjam_id': 'A0E1810E494A', 'yahoo_id': None, 'search_first_name': 'rhamondre', 'sportradar_id': '6260e78a-64e2-4f7e-9bf8-39948a17a370', 'injury_body_part': None, 'pandascore_id': None, 'espn_id': None, 'height': '72', 'practice_participation': None, 'player_id': '7611', 'depth_chart_position': 'RB', 'full_name': 'Rhamondre Stevenson', 'weight': '227', 'years_exp': 3, 'sport': 'nfl', 'depth_chart_order': 1, 'birth_city': None, 'fantasy_data_id': None, 'status': 'Active', 'swish_id': 1174682, 'search_rank': 74, 'age': 26, 'search_last_name': 'stevenson', 'metadata': {'rookie_year': '2021'}, 'first_name': 'Rhamondre', 'rotowire_id': 15372, 'injury_start_date': None, 'college': 'Oklahoma', 'birth_country': None, 'hashtag': '#rhamondrestevenson-NFL-NE-38', 'practice_description': None, 'high_school': 'Centennial (NV)', 'birth_date': '1998-02-23', 'active': True, 'last_name': 'Stevenson', 'injury_status': None, 'rotoworld_id': None, 'news_updated': 1714509619145, 'gsis_id': None}\n",
      "{'dl_trading_id': None, 'number': 85, 'stats_id': None, 'search_full_name': 'treymcbride', 'birth_state': None, 'position': 'TE', 'fantasy_positions': ['TE'], 'injury_notes': None, 'team': 'ARI', 'oddsjam_id': '4F01DA934E52', 'yahoo_id': None, 'search_first_name': 'trey', 'sportradar_id': '734d54cc-c869-4e2f-a60f-c59c493f5110', 'injury_body_part': None, 'pandascore_id': None, 'espn_id': None, 'height': '76', 'practice_participation': None, 'player_id': '8130', 'depth_chart_position': 'TE', 'full_name': 'Trey McBride', 'weight': '246', 'years_exp': 2, 'sport': 'nfl', 'depth_chart_order': 1, 'birth_city': None, 'fantasy_data_id': None, 'status': 'Active', 'swish_id': 1108161, 'search_rank': 46, 'age': 24, 'search_last_name': 'mcbride', 'metadata': {'rookie_year': '2022'}, 'first_name': 'Trey', 'rotowire_id': 15902, 'injury_start_date': None, 'college': 'Colorado State', 'birth_country': None, 'hashtag': '#treymcbride-NFL-ARI-85', 'practice_description': None, 'high_school': 'Fort Morgan (CO)', 'birth_date': '1999-11-22', 'active': True, 'last_name': 'McBride', 'injury_status': None, 'rotoworld_id': None, 'news_updated': 1704688829165, 'gsis_id': None}\n",
      "{'dl_trading_id': None, 'number': 80, 'stats_id': None, 'search_full_name': 'isaiahlikely', 'birth_state': None, 'position': 'TE', 'fantasy_positions': ['TE'], 'injury_notes': None, 'team': 'BAL', 'oddsjam_id': '52ED3346AB9C', 'yahoo_id': None, 'search_first_name': 'isaiah', 'sportradar_id': 'f9279edb-cfa7-4f7d-91df-b81cbf3e133e', 'injury_body_part': None, 'pandascore_id': None, 'espn_id': None, 'height': '76', 'practice_participation': None, 'player_id': '8131', 'depth_chart_position': 'TE', 'full_name': 'Isaiah Likely', 'weight': '241', 'years_exp': 2, 'sport': 'nfl', 'depth_chart_order': 2, 'birth_city': None, 'fantasy_data_id': None, 'status': 'Active', 'swish_id': 1125111, 'search_rank': 177, 'age': 24, 'search_last_name': 'likely', 'metadata': {'rookie_year': '2022'}, 'first_name': 'Isaiah', 'rotowire_id': 16033, 'injury_start_date': None, 'college': 'Coastal Carolina', 'birth_country': None, 'hashtag': '#isaiahlikely-NFL-BAL-80', 'practice_description': None, 'high_school': 'Everett (MA)', 'birth_date': '2000-04-18', 'active': True, 'last_name': 'Likely', 'injury_status': None, 'rotoworld_id': None, 'news_updated': 1708442701686, 'gsis_id': None}\n",
      "{'dl_trading_id': None, 'number': 1, 'stats_id': None, 'search_full_name': 'rachaadwhite', 'birth_state': None, 'position': 'RB', 'fantasy_positions': ['RB'], 'injury_notes': None, 'team': 'TB', 'oddsjam_id': '2820805E8162', 'yahoo_id': None, 'search_first_name': 'rachaad', 'sportradar_id': '4d3f2f57-215c-4cb4-bf75-a7ecdcdded70', 'injury_body_part': None, 'pandascore_id': None, 'espn_id': None, 'height': '72', 'practice_participation': None, 'player_id': '8136', 'depth_chart_position': 'RB', 'full_name': 'Rachaad White', 'weight': '214', 'years_exp': 2, 'sport': 'nfl', 'depth_chart_order': 1, 'birth_city': None, 'fantasy_data_id': None, 'status': 'Active', 'swish_id': 1229343, 'search_rank': 42, 'age': 25, 'search_last_name': 'white', 'metadata': {'rookie_year': '2022'}, 'first_name': 'Rachaad', 'rotowire_id': 15802, 'injury_start_date': None, 'college': 'Arizona State', 'birth_country': None, 'hashtag': '#rachaadwhite-NFL-TB-1', 'practice_description': None, 'high_school': 'Center (MO)', 'birth_date': '1999-01-12', 'active': True, 'last_name': 'White', 'injury_status': None, 'rotoworld_id': None, 'news_updated': 1705880417432, 'gsis_id': None}\n",
      "{'dl_trading_id': None, 'number': 23, 'stats_id': None, 'search_full_name': 'kyrenwilliams', 'birth_state': None, 'position': 'RB', 'fantasy_positions': ['RB'], 'injury_notes': None, 'team': 'LAR', 'oddsjam_id': 'C3619260E06D', 'yahoo_id': None, 'search_first_name': 'kyren', 'sportradar_id': '19d44771-8f1d-4127-9b7d-230da137f15d', 'injury_body_part': None, 'pandascore_id': None, 'espn_id': None, 'height': '69', 'practice_participation': None, 'player_id': '8150', 'depth_chart_position': 'RB', 'full_name': 'Kyren Williams', 'weight': '194', 'years_exp': 2, 'sport': 'nfl', 'depth_chart_order': 1, 'birth_city': None, 'fantasy_data_id': None, 'status': 'Active', 'swish_id': 1167361, 'search_rank': 16, 'age': 23, 'search_last_name': 'williams', 'metadata': {'rookie_year': '2022'}, 'first_name': 'Kyren', 'rotowire_id': 15807, 'injury_start_date': None, 'college': 'Notre Dame', 'birth_country': None, 'hashtag': '#kyrenwilliams-NFL-LAR-23', 'practice_description': None, 'high_school': 'St. John Vianney (MO)', 'birth_date': '2000-08-26', 'active': True, 'last_name': 'Williams', 'injury_status': None, 'rotoworld_id': None, 'news_updated': 1714420518499, 'gsis_id': None}\n",
      "{'dl_trading_id': None, 'number': 9, 'stats_id': None, 'search_full_name': 'kennethwalker', 'birth_state': None, 'position': 'RB', 'fantasy_positions': ['RB'], 'injury_notes': None, 'team': 'SEA', 'oddsjam_id': '59696B50F9E5', 'yahoo_id': None, 'search_first_name': 'kenneth', 'sportradar_id': '22ee9bac-a64c-4d44-94fc-51d775465b3b', 'injury_body_part': None, 'pandascore_id': None, 'espn_id': None, 'height': '69', 'practice_participation': None, 'player_id': '8151', 'depth_chart_position': 'RB', 'full_name': 'Kenneth Walker', 'weight': '211', 'years_exp': 2, 'sport': 'nfl', 'depth_chart_order': 1, 'birth_city': None, 'fantasy_data_id': None, 'status': 'Active', 'swish_id': 1164402, 'search_rank': 44, 'age': 23, 'search_last_name': 'walker', 'metadata': {'rookie_year': '2022'}, 'first_name': 'Kenneth', 'rotowire_id': 15909, 'injury_start_date': None, 'college': 'Michigan State', 'birth_country': None, 'hashtag': '#kennethwalker-NFL-SEA-9', 'practice_description': None, 'high_school': 'Arlington (TN)', 'birth_date': '2000-10-20', 'active': True, 'last_name': 'Walker', 'injury_status': None, 'rotoworld_id': None, 'news_updated': 1714659038124, 'gsis_id': None}\n",
      "{'dl_trading_id': None, 'number': 13, 'stats_id': None, 'search_full_name': 'dontayvionwicks', 'birth_state': None, 'position': 'WR', 'fantasy_positions': ['WR'], 'injury_notes': None, 'team': 'GB', 'oddsjam_id': 'A600F04E54A1', 'yahoo_id': None, 'search_first_name': 'dontayvion', 'sportradar_id': 'ea3d1393-8c3b-4e81-a519-f636d28d692e', 'injury_body_part': None, 'pandascore_id': None, 'espn_id': None, 'height': '73', 'practice_participation': None, 'player_id': '9486', 'depth_chart_position': 'LWR', 'full_name': 'Dontayvion Wicks', 'weight': '206', 'years_exp': 1, 'sport': 'nfl', 'depth_chart_order': 4, 'birth_city': None, 'fantasy_data_id': None, 'status': 'Active', 'swish_id': 1172428, 'search_rank': 162, 'age': 22, 'search_last_name': 'wicks', 'metadata': {'rookie_year': '2023'}, 'first_name': 'Dontayvion', 'rotowire_id': 16658, 'injury_start_date': None, 'college': 'Virginia', 'birth_country': None, 'hashtag': '#dontayvionwicks-NFL-GB-13', 'practice_description': None, 'high_school': 'Plaquemine (LA)', 'birth_date': '2001-06-16', 'active': True, 'last_name': 'Wicks', 'injury_status': None, 'rotoworld_id': None, 'news_updated': 1705961450126, 'gsis_id': None}\n",
      "{'dl_trading_id': None, 'number': 17, 'stats_id': None, 'search_full_name': 'pukanacua', 'birth_state': None, 'position': 'WR', 'fantasy_positions': ['WR'], 'injury_notes': None, 'team': 'LAR', 'oddsjam_id': '3EFD62DFAF78', 'yahoo_id': None, 'search_first_name': 'puka', 'sportradar_id': '111be44d-7bc2-4cad-934d-c9e946293b2f', 'injury_body_part': None, 'pandascore_id': None, 'espn_id': None, 'height': '74', 'practice_participation': None, 'player_id': '9493', 'depth_chart_position': 'RWR', 'full_name': 'Puka Nacua', 'weight': '205', 'years_exp': 1, 'sport': 'nfl', 'depth_chart_order': 1, 'birth_city': None, 'fantasy_data_id': None, 'status': 'Active', 'swish_id': 1162128, 'search_rank': 10, 'age': 22, 'search_last_name': 'nacua', 'metadata': {'rookie_year': '2023'}, 'first_name': 'Puka', 'rotowire_id': 16790, 'injury_start_date': None, 'college': 'BYU', 'birth_country': None, 'hashtag': '#pukanacua-NFL-LAR-17', 'practice_description': None, 'high_school': 'Orem (UT)', 'birth_date': '2001-05-29', 'active': True, 'last_name': 'Nacua', 'injury_status': None, 'rotoworld_id': None, 'news_updated': 1705292450293, 'gsis_id': None}\n",
      "{'dl_trading_id': None, 'number': 2, 'stats_id': None, 'search_full_name': 'tyjaespears', 'birth_state': None, 'position': 'RB', 'fantasy_positions': ['RB'], 'injury_notes': None, 'team': 'TEN', 'oddsjam_id': '69EE7B225AEF', 'yahoo_id': None, 'search_first_name': 'tyjae', 'sportradar_id': 'af71f149-7758-40b7-973a-9fe6320cf4f5', 'injury_body_part': None, 'pandascore_id': None, 'espn_id': None, 'height': '71', 'practice_participation': None, 'player_id': '9508', 'depth_chart_position': 'RB', 'full_name': 'Tyjae Spears', 'weight': '195', 'years_exp': 1, 'sport': 'nfl', 'depth_chart_order': 2, 'birth_city': None, 'fantasy_data_id': None, 'status': 'Active', 'swish_id': 1169430, 'search_rank': 116, 'age': 22, 'search_last_name': 'spears', 'metadata': {'rookie_year': '2023'}, 'first_name': 'Tyjae', 'rotowire_id': 16941, 'injury_start_date': None, 'college': 'Tulane', 'birth_country': None, 'hashtag': '#tyjaespears-NFL-TEN-2', 'practice_description': None, 'high_school': 'Ponchatoula (LA)', 'birth_date': '2001-06-15', 'active': True, 'last_name': 'Spears', 'injury_status': None, 'rotoworld_id': None, 'news_updated': 1710259206317, 'gsis_id': None}\n",
      "{'dl_trading_id': None, 'number': 7, 'stats_id': None, 'search_full_name': 'cjstroud', 'birth_state': None, 'position': 'QB', 'fantasy_positions': ['QB'], 'injury_notes': None, 'team': 'HOU', 'oddsjam_id': '66A14E676432', 'yahoo_id': None, 'search_first_name': 'cj', 'sportradar_id': '7e91086f-9ca4-4bd9-a099-b88b2f37e6c6', 'injury_body_part': None, 'pandascore_id': None, 'espn_id': None, 'height': '75', 'practice_participation': None, 'player_id': '9758', 'depth_chart_position': 'QB', 'full_name': 'C.J. Stroud', 'weight': '218', 'years_exp': 1, 'sport': 'nfl', 'depth_chart_order': 1, 'birth_city': None, 'fantasy_data_id': None, 'status': 'Active', 'swish_id': 1214084, 'search_rank': 7, 'age': 22, 'search_last_name': 'stroud', 'metadata': {'rookie_year': '2023'}, 'first_name': 'C.J.', 'rotowire_id': 16886, 'injury_start_date': None, 'college': 'Ohio State', 'birth_country': None, 'hashtag': '#cjstroud-NFL-HOU-7', 'practice_description': None, 'high_school': 'Rancho Cucamonga (CA)', 'birth_date': '2001-10-03', 'active': True, 'last_name': 'Stroud', 'injury_status': None, 'rotoworld_id': None, 'news_updated': 1707446127618, 'gsis_id': None}\n"
     ]
    }
   ],
   "source": [
    "for i in players:\n",
    "    print(data[i])"
   ]
  },
  {
   "cell_type": "code",
   "execution_count": 56,
   "metadata": {},
   "outputs": [],
   "source": [
    "df = pd.DataFrame(data)"
   ]
  },
  {
   "cell_type": "code",
   "execution_count": 57,
   "metadata": {},
   "outputs": [],
   "source": [
    "df2 = df.T"
   ]
  },
  {
   "cell_type": "code",
   "execution_count": 58,
   "metadata": {},
   "outputs": [],
   "source": [
    "df2 = df2.reset_index()"
   ]
  },
  {
   "cell_type": "code",
   "execution_count": 63,
   "metadata": {},
   "outputs": [],
   "source": [
    "df2 = df2.rename(columns={'index':'id'})"
   ]
  },
  {
   "cell_type": "code",
   "execution_count": 64,
   "metadata": {},
   "outputs": [
    {
     "name": "stdout",
     "output_type": "stream",
     "text": [
      "<class 'pandas.core.frame.DataFrame'>\n",
      "RangeIndex: 10559 entries, 0 to 10558\n",
      "Data columns (total 49 columns):\n",
      " #   Column                  Non-Null Count  Dtype \n",
      "---  ------                  --------------  ----- \n",
      " 0   id                      10559 non-null  object\n",
      " 1   dl_trading_id           0 non-null      object\n",
      " 2   number                  10260 non-null  object\n",
      " 3   stats_id                2980 non-null   object\n",
      " 4   search_full_name        10527 non-null  object\n",
      " 5   birth_state             0 non-null      object\n",
      " 6   position                10319 non-null  object\n",
      " 7   fantasy_positions       10258 non-null  object\n",
      " 8   injury_notes            220 non-null    object\n",
      " 9   team                    3418 non-null   object\n",
      " 10  oddsjam_id              3417 non-null   object\n",
      " 11  yahoo_id                6750 non-null   object\n",
      " 12  search_first_name       10527 non-null  object\n",
      " 13  sportradar_id           10457 non-null  object\n",
      " 14  injury_body_part        702 non-null    object\n",
      " 15  pandascore_id           0 non-null      object\n",
      " 16  espn_id                 6736 non-null   object\n",
      " 17  height                  10514 non-null  object\n",
      " 18  practice_participation  1 non-null      object\n",
      " 19  player_id               10559 non-null  object\n",
      " 20  depth_chart_position    2941 non-null   object\n",
      " 21  full_name               10527 non-null  object\n",
      " 22  weight                  10513 non-null  object\n",
      " 23  years_exp               10475 non-null  object\n",
      " 24  sport                   10559 non-null  object\n",
      " 25  depth_chart_order       1689 non-null   object\n",
      " 26  birth_city              0 non-null      object\n",
      " 27  fantasy_data_id         7461 non-null   object\n",
      " 28  status                  10516 non-null  object\n",
      " 29  swish_id                5214 non-null   object\n",
      " 30  search_rank             10338 non-null  object\n",
      " 31  age                     9351 non-null   object\n",
      " 32  search_last_name        10527 non-null  object\n",
      " 33  metadata                4171 non-null   object\n",
      " 34  first_name              10559 non-null  object\n",
      " 35  rotowire_id             8941 non-null   object\n",
      " 36  injury_start_date       0 non-null      object\n",
      " 37  college                 10234 non-null  object\n",
      " 38  birth_country           0 non-null      object\n",
      " 39  hashtag                 10527 non-null  object\n",
      " 40  practice_description    1 non-null      object\n",
      " 41  high_school             9026 non-null   object\n",
      " 42  birth_date              9350 non-null   object\n",
      " 43  active                  10559 non-null  object\n",
      " 44  last_name               10559 non-null  object\n",
      " 45  injury_status           779 non-null    object\n",
      " 46  rotoworld_id            2033 non-null   object\n",
      " 47  news_updated            6679 non-null   object\n",
      " 48  gsis_id                 3893 non-null   object\n",
      "dtypes: object(49)\n",
      "memory usage: 3.9+ MB\n"
     ]
    }
   ],
   "source": [
    "df2.info()"
   ]
  },
  {
   "cell_type": "code",
   "execution_count": 65,
   "metadata": {},
   "outputs": [],
   "source": [
    "list = ['id', 'first_name', 'last_name', 'position', 'team', 'age' ,'depth_chart_order', 'search_rank']"
   ]
  },
  {
   "cell_type": "code",
   "execution_count": 66,
   "metadata": {},
   "outputs": [
    {
     "data": {
      "text/html": [
       "<div>\n",
       "<style scoped>\n",
       "    .dataframe tbody tr th:only-of-type {\n",
       "        vertical-align: middle;\n",
       "    }\n",
       "\n",
       "    .dataframe tbody tr th {\n",
       "        vertical-align: top;\n",
       "    }\n",
       "\n",
       "    .dataframe thead th {\n",
       "        text-align: right;\n",
       "    }\n",
       "</style>\n",
       "<table border=\"1\" class=\"dataframe\">\n",
       "  <thead>\n",
       "    <tr style=\"text-align: right;\">\n",
       "      <th></th>\n",
       "      <th>id</th>\n",
       "      <th>first_name</th>\n",
       "      <th>last_name</th>\n",
       "      <th>position</th>\n",
       "      <th>team</th>\n",
       "      <th>age</th>\n",
       "      <th>depth_chart_order</th>\n",
       "      <th>search_rank</th>\n",
       "    </tr>\n",
       "  </thead>\n",
       "  <tbody>\n",
       "    <tr>\n",
       "      <th>0</th>\n",
       "      <td>3992</td>\n",
       "      <td>Dave</td>\n",
       "      <td>Caldwell</td>\n",
       "      <td>None</td>\n",
       "      <td>None</td>\n",
       "      <td>None</td>\n",
       "      <td>None</td>\n",
       "      <td>9999999</td>\n",
       "    </tr>\n",
       "    <tr>\n",
       "      <th>1</th>\n",
       "      <td>6744</td>\n",
       "      <td>Greg</td>\n",
       "      <td>Ward</td>\n",
       "      <td>WR</td>\n",
       "      <td>PHI</td>\n",
       "      <td>28</td>\n",
       "      <td>None</td>\n",
       "      <td>9999999</td>\n",
       "    </tr>\n",
       "    <tr>\n",
       "      <th>2</th>\n",
       "      <td>1591</td>\n",
       "      <td>Alvin</td>\n",
       "      <td>Bailey</td>\n",
       "      <td>G</td>\n",
       "      <td>None</td>\n",
       "      <td>29</td>\n",
       "      <td>None</td>\n",
       "      <td>9999999</td>\n",
       "    </tr>\n",
       "    <tr>\n",
       "      <th>3</th>\n",
       "      <td>918</td>\n",
       "      <td>Niles</td>\n",
       "      <td>Paul</td>\n",
       "      <td>TE</td>\n",
       "      <td>None</td>\n",
       "      <td>32</td>\n",
       "      <td>None</td>\n",
       "      <td>9999999</td>\n",
       "    </tr>\n",
       "    <tr>\n",
       "      <th>4</th>\n",
       "      <td>4810</td>\n",
       "      <td>Kwayde</td>\n",
       "      <td>Miller</td>\n",
       "      <td>OT</td>\n",
       "      <td>None</td>\n",
       "      <td>28</td>\n",
       "      <td>None</td>\n",
       "      <td>9999999</td>\n",
       "    </tr>\n",
       "    <tr>\n",
       "      <th>...</th>\n",
       "      <td>...</td>\n",
       "      <td>...</td>\n",
       "      <td>...</td>\n",
       "      <td>...</td>\n",
       "      <td>...</td>\n",
       "      <td>...</td>\n",
       "      <td>...</td>\n",
       "      <td>...</td>\n",
       "    </tr>\n",
       "    <tr>\n",
       "      <th>10554</th>\n",
       "      <td>1875</td>\n",
       "      <td>C.J.</td>\n",
       "      <td>Mosley</td>\n",
       "      <td>LB</td>\n",
       "      <td>NYJ</td>\n",
       "      <td>31</td>\n",
       "      <td>1</td>\n",
       "      <td>294</td>\n",
       "    </tr>\n",
       "    <tr>\n",
       "      <th>10555</th>\n",
       "      <td>7926</td>\n",
       "      <td>Carl</td>\n",
       "      <td>Tucker</td>\n",
       "      <td>TE</td>\n",
       "      <td>None</td>\n",
       "      <td>24</td>\n",
       "      <td>None</td>\n",
       "      <td>426</td>\n",
       "    </tr>\n",
       "    <tr>\n",
       "      <th>10556</th>\n",
       "      <td>8842</td>\n",
       "      <td>Malkelm</td>\n",
       "      <td>Morrison</td>\n",
       "      <td>CB</td>\n",
       "      <td>None</td>\n",
       "      <td>None</td>\n",
       "      <td>None</td>\n",
       "      <td>9999999</td>\n",
       "    </tr>\n",
       "    <tr>\n",
       "      <th>10557</th>\n",
       "      <td>11255</td>\n",
       "      <td>Nick</td>\n",
       "      <td>Amoah</td>\n",
       "      <td>OL</td>\n",
       "      <td>None</td>\n",
       "      <td>None</td>\n",
       "      <td>None</td>\n",
       "      <td>9999999</td>\n",
       "    </tr>\n",
       "    <tr>\n",
       "      <th>10558</th>\n",
       "      <td>6462</td>\n",
       "      <td>Ellis</td>\n",
       "      <td>Richardson</td>\n",
       "      <td>TE</td>\n",
       "      <td>None</td>\n",
       "      <td>26</td>\n",
       "      <td>None</td>\n",
       "      <td>9999999</td>\n",
       "    </tr>\n",
       "  </tbody>\n",
       "</table>\n",
       "<p>10559 rows × 8 columns</p>\n",
       "</div>"
      ],
      "text/plain": [
       "          id first_name   last_name position  team   age depth_chart_order  \\\n",
       "0       3992       Dave    Caldwell     None  None  None              None   \n",
       "1       6744       Greg        Ward       WR   PHI    28              None   \n",
       "2       1591      Alvin      Bailey        G  None    29              None   \n",
       "3        918      Niles        Paul       TE  None    32              None   \n",
       "4       4810     Kwayde      Miller       OT  None    28              None   \n",
       "...      ...        ...         ...      ...   ...   ...               ...   \n",
       "10554   1875       C.J.      Mosley       LB   NYJ    31                 1   \n",
       "10555   7926       Carl      Tucker       TE  None    24              None   \n",
       "10556   8842    Malkelm    Morrison       CB  None  None              None   \n",
       "10557  11255       Nick       Amoah       OL  None  None              None   \n",
       "10558   6462      Ellis  Richardson       TE  None    26              None   \n",
       "\n",
       "      search_rank  \n",
       "0         9999999  \n",
       "1         9999999  \n",
       "2         9999999  \n",
       "3         9999999  \n",
       "4         9999999  \n",
       "...           ...  \n",
       "10554         294  \n",
       "10555         426  \n",
       "10556     9999999  \n",
       "10557     9999999  \n",
       "10558     9999999  \n",
       "\n",
       "[10559 rows x 8 columns]"
      ]
     },
     "execution_count": 66,
     "metadata": {},
     "output_type": "execute_result"
    }
   ],
   "source": [
    "df2[list]"
   ]
  },
  {
   "cell_type": "code",
   "execution_count": null,
   "metadata": {},
   "outputs": [],
   "source": []
  }
 ],
 "metadata": {
  "kernelspec": {
   "display_name": "fantasy_football",
   "language": "python",
   "name": "python3"
  },
  "language_info": {
   "codemirror_mode": {
    "name": "ipython",
    "version": 3
   },
   "file_extension": ".py",
   "mimetype": "text/x-python",
   "name": "python",
   "nbconvert_exporter": "python",
   "pygments_lexer": "ipython3",
   "version": "3.10.6"
  }
 },
 "nbformat": 4,
 "nbformat_minor": 2
}
